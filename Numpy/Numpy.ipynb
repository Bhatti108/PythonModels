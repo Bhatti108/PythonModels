{
  "cells": [
    {
      "cell_type": "markdown",
      "metadata": {
        "id": "34dadzI8FXeu"
      },
      "source": [
        "# NumPy Tutorial\n",
        "NumPy is a Python library.\n",
        "\n",
        "NumPy is used for working with arrays.\n",
        "\n",
        "NumPy is short for \"Numerical Python\"."
      ]
    },
    {
      "cell_type": "markdown",
      "metadata": {
        "id": "9FpVbHiXFsC0"
      },
      "source": [
        "# NumPy Introduction\n",
        "# What is NumPy?\n",
        "NumPy is a Python library used for working with arrays.\n",
        "\n",
        "It also has functions for working in domain of linear algebra, fourier transform, and matrices.\n",
        "\n",
        "NumPy was created in 2005 by Travis Oliphant. It is an open source project and you can use it freely.\n",
        "\n",
        "NumPy stands for Numerical Python.\n",
        "# Why Use NumPy?\n",
        "In Python we have lists that serve the purpose of arrays, but they are slow to process.\n",
        "\n",
        "NumPy aims to provide an array object that is up to 50x faster than traditional Python lists.\n",
        "\n",
        "The array object in NumPy is called ndarray, it provides a lot of supporting functions that make working with ndarray very easy.\n",
        "\n",
        "Arrays are very frequently used in data science, where speed and resources are very important.\n",
        "\n",
        "# Data Science:\n",
        "Is a branch of computer science where we study how to store, use and analyze data for deriving information from it.\n",
        "# Why is NumPy Faster Than Lists?\n",
        "NumPy arrays are stored at one continuous place in memory unlike lists, so processes can access and manipulate them very efficiently.\n",
        "\n",
        "This behavior is called locality of reference in computer science.\n",
        "\n",
        "This is the main reason why NumPy is faster than lists. Also it is optimized to work with latest CPU architectures.\n",
        "\n",
        "# Which Language is NumPy written in?\n",
        "NumPy is a Python library and is written partially in Python, but most of the parts that require fast computation are written in C or C++.\n",
        "\n"
      ]
    },
    {
      "cell_type": "markdown",
      "metadata": {
        "id": "JxzMmjELHC2P"
      },
      "source": [
        "# NumPy Getting Started\n",
        "# Import NumPy\n",
        "Once NumPy is installed, import it in your applications by adding the import keyword:\n",
        "\n",
        "import numpy"
      ]
    },
    {
      "cell_type": "code",
      "execution_count": null,
      "metadata": {
        "colab": {
          "base_uri": "https://localhost:8080/"
        },
        "id": "ie9hof9FHJ9r",
        "outputId": "4baba163-3185-4f1d-d0f0-f5e9c0486ae0"
      },
      "outputs": [
        {
          "name": "stdout",
          "output_type": "stream",
          "text": [
            "[1 2 3 4 5]\n"
          ]
        }
      ],
      "source": [
        "import numpy\n",
        "arr=numpy.array([1,2,3,4,5])\n",
        "print(arr)"
      ]
    },
    {
      "cell_type": "markdown",
      "metadata": {
        "id": "PQqpwSLhHh4T"
      },
      "source": [
        "# NumPy as np\n",
        "NumPy is usually imported under the np alias."
      ]
    },
    {
      "cell_type": "code",
      "execution_count": null,
      "metadata": {
        "colab": {
          "base_uri": "https://localhost:8080/"
        },
        "id": "riZKw85bHjSe",
        "outputId": "cc6740ee-321f-410d-d0b4-f107b026a4da"
      },
      "outputs": [
        {
          "name": "stdout",
          "output_type": "stream",
          "text": [
            "[1 2 3 4 5]\n"
          ]
        }
      ],
      "source": [
        "import numpy as np\n",
        "arr=np.array([1,2,3,4,5])\n",
        "print(arr)"
      ]
    },
    {
      "cell_type": "markdown",
      "metadata": {
        "id": "g3EXp4yoHwtM"
      },
      "source": [
        "# Checking NumPy Version\n",
        "The version string is stored under __version__ attribute."
      ]
    },
    {
      "cell_type": "code",
      "execution_count": null,
      "metadata": {
        "colab": {
          "base_uri": "https://localhost:8080/"
        },
        "id": "RH6KegsNHyPT",
        "outputId": "399a48e2-1ef8-44b5-e2b4-5e3c3f936305"
      },
      "outputs": [
        {
          "name": "stdout",
          "output_type": "stream",
          "text": [
            "1.26.4\n"
          ]
        }
      ],
      "source": [
        "import numpy as np\n",
        "print(np.__version__)"
      ]
    },
    {
      "cell_type": "markdown",
      "metadata": {
        "id": "eQIL-jYZIsNK"
      },
      "source": [
        "# NumPy Creating Arrays\n",
        "# Create a NumPy ndarray Object\n",
        "NumPy is used to work with arrays. The array object in NumPy is called ndarray.\n",
        "\n",
        "We can create a NumPy ndarray object by using the array() function."
      ]
    },
    {
      "cell_type": "code",
      "execution_count": null,
      "metadata": {
        "colab": {
          "base_uri": "https://localhost:8080/"
        },
        "id": "FuH-p8Y1I6dW",
        "outputId": "172c508a-fce3-41db-fe15-e63683bf84fe"
      },
      "outputs": [
        {
          "name": "stdout",
          "output_type": "stream",
          "text": [
            "[1 2 3 4 5]\n",
            "<class 'numpy.ndarray'>\n"
          ]
        }
      ],
      "source": [
        "import numpy as np\n",
        "arr=np.array([1,2,3,4,5])\n",
        "print(arr)\n",
        "print(type(arr))"
      ]
    },
    {
      "cell_type": "markdown",
      "metadata": {
        "id": "BN67b2D9JPjY"
      },
      "source": [
        "# type():\n",
        "This built-in Python function tells us the type of the object passed to it. Like in above code it shows that arr is numpy.ndarray type.\n",
        "\n",
        "To create an ndarray, we can pass a list, tuple or any array-like object into the array() method, and it will be converted into an ndarray:"
      ]
    },
    {
      "cell_type": "code",
      "execution_count": null,
      "metadata": {
        "colab": {
          "base_uri": "https://localhost:8080/"
        },
        "id": "9xi5EgsKJUXO",
        "outputId": "0e4f2b76-d6fd-47f8-f0fd-0bff89d78f08"
      },
      "outputs": [
        {
          "name": "stdout",
          "output_type": "stream",
          "text": [
            "[1 2 3 4 5]\n",
            "<class 'numpy.ndarray'>\n"
          ]
        }
      ],
      "source": [
        "# Use a tuple to create a NumPy array.\n",
        "import numpy as np\n",
        "arr=np.array((1,2,3,4,5))\n",
        "print(arr)\n",
        "print(type(arr))"
      ]
    },
    {
      "cell_type": "markdown",
      "metadata": {
        "id": "a_In39Z-JwXu"
      },
      "source": [
        "# Dimensions in Arrays\n",
        "A dimension in arrays is one level of array depth (nested arrays).\n",
        "\n",
        "nested array: are arrays that have arrays as their elements."
      ]
    },
    {
      "cell_type": "markdown",
      "metadata": {
        "id": "bpFZV7p8J51I"
      },
      "source": [
        "# 0-D Arrays\n",
        "0-D arrays, or Scalars, are the elements in an array. Each value in an array is a 0-D array."
      ]
    },
    {
      "cell_type": "code",
      "execution_count": null,
      "metadata": {
        "colab": {
          "base_uri": "https://localhost:8080/"
        },
        "id": "geKWUOXGJ7HF",
        "outputId": "b3f1f525-0751-47c6-d596-3632eb6dd966"
      },
      "outputs": [
        {
          "name": "stdout",
          "output_type": "stream",
          "text": [
            "42\n"
          ]
        }
      ],
      "source": [
        "# Create a 0-D array with value 42\n",
        "import numpy as np\n",
        "arr=np.array(42)\n",
        "print(arr)"
      ]
    },
    {
      "cell_type": "markdown",
      "metadata": {
        "id": "KdrhFUaRKObs"
      },
      "source": [
        "# 1-D Arrays\n",
        "An array that has 0-D arrays as its elements is called uni-dimensional or 1-D array.\n",
        "\n",
        "These are the most common and basic arrays."
      ]
    },
    {
      "cell_type": "code",
      "execution_count": null,
      "metadata": {
        "colab": {
          "base_uri": "https://localhost:8080/"
        },
        "id": "2jA669J5KPvr",
        "outputId": "9db74d20-6922-4597-a4cb-1b1f9793755d"
      },
      "outputs": [
        {
          "name": "stdout",
          "output_type": "stream",
          "text": [
            "[1 2 3 4 5]\n"
          ]
        }
      ],
      "source": [
        "# Create a 1-D array containing the values 1,2,3,4,5.\n",
        "import numpy as np\n",
        "arr=np.array([1,2,3,4,5])\n",
        "print(arr)"
      ]
    },
    {
      "cell_type": "markdown",
      "metadata": {
        "id": "k65S4zdSKl5w"
      },
      "source": [
        "# 2-D Arrays\n",
        "An array that has 1-D arrays as its elements is called a 2-D array.\n",
        "\n",
        "These are often used to represent matrix or 2nd order tensors.\n",
        "\n",
        "NumPy has a whole sub module dedicated towards matrix operations called numpy.mat"
      ]
    },
    {
      "cell_type": "code",
      "execution_count": null,
      "metadata": {
        "colab": {
          "base_uri": "https://localhost:8080/"
        },
        "id": "bPC7ptk7KnVy",
        "outputId": "297da0a5-5677-447d-cd67-12e1ae8748ee"
      },
      "outputs": [
        {
          "name": "stdout",
          "output_type": "stream",
          "text": [
            "[[1 2 3]\n",
            " [4 5 6]]\n"
          ]
        }
      ],
      "source": [
        "# Create a 2-D array containing two arrays with the values 1,2,3 and 4,5,6.\n",
        "import numpy as np\n",
        "arr=np.array([[1,2,3],[4,5,6]])\n",
        "print(arr)"
      ]
    },
    {
      "cell_type": "markdown",
      "metadata": {
        "id": "iUITcxITLIzQ"
      },
      "source": [
        "# 3-D arrays\n",
        "An array that has 2-D arrays (matrices) as its elements is called 3-D array.\n",
        "\n",
        "These are often used to represent a 3rd order tensor."
      ]
    },
    {
      "cell_type": "code",
      "execution_count": null,
      "metadata": {
        "colab": {
          "base_uri": "https://localhost:8080/"
        },
        "id": "sf6iOEwoLKUP",
        "outputId": "42d606b3-ac8c-4b73-ea9d-c3e522166bc2"
      },
      "outputs": [
        {
          "name": "stdout",
          "output_type": "stream",
          "text": [
            "[[[1 2 3]\n",
            "  [4 5 6]]\n",
            "\n",
            " [[1 2 3]\n",
            "  [4 5 6]]]\n"
          ]
        }
      ],
      "source": [
        "# Create a 3-D array with two 2-D arrays, both containing two arrays with the values 1,2,3 and 4,5,6.\n",
        "import numpy as np\n",
        "arr=np.array([[[1,2,3],[4,5,6]],[[1,2,3],[4,5,6]]])\n",
        "print(arr)"
      ]
    },
    {
      "cell_type": "markdown",
      "metadata": {
        "id": "nIsY3k6nRomN"
      },
      "source": [
        "# Check Number of Dimensions?\n",
        "NumPy Arrays provides the ndim attribute that returns an integer that tells us how many dimensions the array have."
      ]
    },
    {
      "cell_type": "code",
      "execution_count": null,
      "metadata": {
        "colab": {
          "base_uri": "https://localhost:8080/"
        },
        "id": "wLYbmVMSRqJS",
        "outputId": "fe1ccaf9-e1c1-4446-e3ce-dd45eaeb724f"
      },
      "outputs": [
        {
          "name": "stdout",
          "output_type": "stream",
          "text": [
            "0\n",
            "1\n",
            "2\n",
            "3\n"
          ]
        }
      ],
      "source": [
        "# Check how many dimensions the arrays have.\n",
        "import numpy as np\n",
        "a=np.array(42)\n",
        "b=np.array([1,2,3,4,5])\n",
        "c=np.array([[1,2,3],[4,5,6]])\n",
        "d=np.array([[[1,2,3],[4,5,6]],[[1,2,3],[4,5,6]]])\n",
        "print(a.ndim)\n",
        "print(b.ndim)\n",
        "print(c.ndim)\n",
        "print(d.ndim)"
      ]
    },
    {
      "cell_type": "markdown",
      "metadata": {
        "id": "PuHsCnXPStok"
      },
      "source": [
        "# Higher Dimensional Arrays\n",
        "An array can have any number of dimensions.\n",
        "\n",
        "When the array is created, you can define the number of dimensions by using the ndmin argument."
      ]
    },
    {
      "cell_type": "code",
      "execution_count": null,
      "metadata": {
        "colab": {
          "base_uri": "https://localhost:8080/"
        },
        "id": "23s_q6PySwMP",
        "outputId": "16065a79-191c-4295-f4d0-dc6645a5ab61"
      },
      "outputs": [
        {
          "name": "stdout",
          "output_type": "stream",
          "text": [
            "[[[[[1 2 3 4 5]]]]]\n",
            "Number of dimensions= 5\n"
          ]
        }
      ],
      "source": [
        "import numpy as np\n",
        "arr=np.array([1,2,3,4,5],ndmin=5)\n",
        "print(arr)\n",
        "print(\"Number of dimensions=\",arr.ndim)"
      ]
    },
    {
      "cell_type": "markdown",
      "metadata": {
        "id": "vGlob1sxTqLx"
      },
      "source": [
        "In this array the innermost dimension (5th dim) has 4 elements, the 4th dim has 1 element that is the vector, the 3rd dim has 1 element that is the matrix with the vector, the 2nd dim has 1 element that is 3D array and 1st dim has 1 element that is a 4D array."
      ]
    },
    {
      "cell_type": "markdown",
      "metadata": {
        "id": "us2AiSryUOvs"
      },
      "source": [
        "# NumPy Array Indexing\n",
        "# Access Array Elements\n",
        "Array indexing is the same as accessing an array element.\n",
        "\n",
        "You can access an array element by referring to its index number.\n",
        "\n",
        "The indexes in NumPy arrays start with 0, meaning that the first element has index 0, and the second has index 1 etc."
      ]
    },
    {
      "cell_type": "code",
      "execution_count": null,
      "metadata": {
        "colab": {
          "base_uri": "https://localhost:8080/"
        },
        "id": "gfraJNy1UYau",
        "outputId": "e4538a9a-fdb7-498a-a0c4-5a85f755cf85"
      },
      "outputs": [
        {
          "name": "stdout",
          "output_type": "stream",
          "text": [
            "1\n"
          ]
        }
      ],
      "source": [
        "# Get the first element from the following array.\n",
        "import numpy as np\n",
        "arr=np.array([1,2,3,4,5])\n",
        "print(arr[0])"
      ]
    },
    {
      "cell_type": "code",
      "execution_count": null,
      "metadata": {
        "colab": {
          "base_uri": "https://localhost:8080/"
        },
        "id": "HMzlieW6UwvO",
        "outputId": "881db54d-8c9a-47a5-d9d1-898810ca2cb2"
      },
      "outputs": [
        {
          "name": "stdout",
          "output_type": "stream",
          "text": [
            "2\n"
          ]
        }
      ],
      "source": [
        "# Get the second element from the following array.\n",
        "import numpy as np\n",
        "arr=np.array([1,2,3,4])\n",
        "print(arr[1])"
      ]
    },
    {
      "cell_type": "code",
      "execution_count": null,
      "metadata": {
        "colab": {
          "base_uri": "https://localhost:8080/"
        },
        "id": "YU9HCJq4U_NR",
        "outputId": "ece3ec68-c902-45ef-93dd-319d81008803"
      },
      "outputs": [
        {
          "name": "stdout",
          "output_type": "stream",
          "text": [
            "7\n"
          ]
        }
      ],
      "source": [
        "# Get third and fourth elements from the following array and add them.\n",
        "import numpy as np\n",
        "arr=np.array([1,2,3,4])\n",
        "print(arr[2]+arr[3])"
      ]
    },
    {
      "cell_type": "markdown",
      "metadata": {
        "id": "8XGA323AVYNT"
      },
      "source": [
        "# Access 2-D Arrays\n",
        "To access elements from 2-D arrays we can use comma separated integers representing the dimension and the index of the element.\n",
        "\n",
        "Think of 2-D arrays like a table with rows and columns, where the dimension represents the row and the index represents the column."
      ]
    },
    {
      "cell_type": "code",
      "execution_count": null,
      "metadata": {
        "colab": {
          "base_uri": "https://localhost:8080/"
        },
        "id": "ZmftcCcuVZ3G",
        "outputId": "2e020901-9ec8-4ce1-ab64-177b4692f08a"
      },
      "outputs": [
        {
          "name": "stdout",
          "output_type": "stream",
          "text": [
            "2nd element of 1st row= 2\n",
            "5th element of 2nd row= 10\n"
          ]
        }
      ],
      "source": [
        "# Access the element on the first row, second column.\n",
        "import numpy as np\n",
        "arr=np.array([[1,2,3,4,5],[6,7,8,9,10]])\n",
        "print(\"2nd element of 1st row=\",arr[0,1])\n",
        "# Access the element on the 2nd row, 5th column:\n",
        "print(\"5th element of 2nd row=\",arr[1,4])"
      ]
    },
    {
      "cell_type": "markdown",
      "metadata": {
        "id": "GL1dTZqSXUxi"
      },
      "source": [
        "# Access 3-D Arrays\n",
        "To access elements from 3-D arrays we can use comma separated integers representing the dimensions and the index of the element."
      ]
    },
    {
      "cell_type": "code",
      "execution_count": null,
      "metadata": {
        "colab": {
          "base_uri": "https://localhost:8080/"
        },
        "id": "LHRUPEDkXWPJ",
        "outputId": "2ab3520d-d783-40dd-ef3b-c105eec47756"
      },
      "outputs": [
        {
          "name": "stdout",
          "output_type": "stream",
          "text": [
            "Third element of first array= 6\n",
            "second element of 1st array of 2nd array= 8\n"
          ]
        }
      ],
      "source": [
        "# Access the third element of the second array of the first array.\n",
        "import numpy as np\n",
        "arr=np.array([[[1,2,3],[4,5,6]],[[7,8,9],[10,11,12]]])\n",
        "print(\"Third element of first array=\",arr[0,1,2])\n",
        "print(\"second element of 1st array of 2nd array=\",arr[1,0,1])"
      ]
    },
    {
      "cell_type": "markdown",
      "metadata": {
        "id": "DM3XuMbLZNEU"
      },
      "source": [
        "# Negative Indexing\n",
        "Use negative indexing to access an array from the end."
      ]
    },
    {
      "cell_type": "code",
      "execution_count": null,
      "metadata": {
        "colab": {
          "base_uri": "https://localhost:8080/"
        },
        "id": "J0VMrkb4ZYSn",
        "outputId": "0f0f53b4-108b-4f51-9ff6-3417aaf924c7"
      },
      "outputs": [
        {
          "name": "stdout",
          "output_type": "stream",
          "text": [
            "Print the last element from the 2nd dim= 10\n"
          ]
        }
      ],
      "source": [
        "# Print the last element from the 2nd dim.\n",
        "import numpy as np\n",
        "arr=np.array([[1,2,3,4,5],[6,7,8,9,10]])\n",
        "print(\"Print the last element from the 2nd dim=\",arr[1,-1])"
      ]
    },
    {
      "cell_type": "markdown",
      "metadata": {
        "id": "wv_xZx_Za2sE"
      },
      "source": [
        "# NumPy Array Slicing\n",
        "# Slicing arrays\n",
        "Slicing in python means taking elements from one given index to another given index.\n",
        "\n",
        "We pass slice instead of index like this: [start:end].\n",
        "\n",
        "We can also define the step, like this: [start:end:step].\n",
        "\n",
        "If we don't pass start its considered 0\n",
        "\n",
        "If we don't pass end its considered length of array in that dimension\n",
        "\n",
        "If we don't pass step its considered 1\n",
        "\n",
        "Example"
      ]
    },
    {
      "cell_type": "code",
      "execution_count": null,
      "metadata": {
        "colab": {
          "base_uri": "https://localhost:8080/"
        },
        "id": "6tS9F3o8bEda",
        "outputId": "2420254c-9878-4420-dbac-af13f1c10169"
      },
      "outputs": [
        {
          "name": "stdout",
          "output_type": "stream",
          "text": [
            "[2 3 4 5]\n"
          ]
        }
      ],
      "source": [
        "# Slice elements from index 1 to index 5 from the following array.\n",
        "import numpy as np\n",
        "arr=np.array([1,2,3,4,5,6,7])\n",
        "print(arr[1:5])\n",
        "# Note: The result includes the start index, but excludes the end index."
      ]
    },
    {
      "cell_type": "code",
      "execution_count": null,
      "metadata": {
        "colab": {
          "base_uri": "https://localhost:8080/"
        },
        "id": "0Bwi9c0Ob2FP",
        "outputId": "5a90975e-ea6f-4d9c-a30c-3d20faaca139"
      },
      "outputs": [
        {
          "name": "stdout",
          "output_type": "stream",
          "text": [
            "[5 6 7]\n"
          ]
        }
      ],
      "source": [
        "# Slice elements from index 4 to the end of the array.\n",
        "import numpy as np\n",
        "arr=np.array([1,2,3,4,5,6,7])\n",
        "print(arr[4:])"
      ]
    },
    {
      "cell_type": "code",
      "execution_count": null,
      "metadata": {
        "colab": {
          "base_uri": "https://localhost:8080/"
        },
        "id": "1NpXZCOfcJHe",
        "outputId": "239576cd-a569-4660-8ded-122dc13ce596"
      },
      "outputs": [
        {
          "name": "stdout",
          "output_type": "stream",
          "text": [
            "[1 2 3 4]\n"
          ]
        }
      ],
      "source": [
        "# Slice elements from the beginning to index 4 (not included).\n",
        "import numpy as np\n",
        "arr = np.array([1, 2, 3, 4, 5, 6, 7])\n",
        "print(arr[:4])"
      ]
    },
    {
      "cell_type": "markdown",
      "metadata": {
        "id": "I2vrhn5mcVkn"
      },
      "source": [
        "# Negative Slicing\n",
        "Use the minus operator to refer to an index from the end:"
      ]
    },
    {
      "cell_type": "code",
      "execution_count": null,
      "metadata": {
        "colab": {
          "base_uri": "https://localhost:8080/"
        },
        "id": "-Jft6cKncXY5",
        "outputId": "25dcfba6-8af2-4591-ac47-c00c94057418"
      },
      "outputs": [
        {
          "name": "stdout",
          "output_type": "stream",
          "text": [
            "[5 6]\n"
          ]
        }
      ],
      "source": [
        "# Slice from the index 3 from the end to index 1 from the end.\n",
        "import numpy as np\n",
        "arr=np.array([1,2,3,4,5,6,7])\n",
        "print(arr[-3:-1])"
      ]
    },
    {
      "cell_type": "markdown",
      "metadata": {
        "id": "Rt0hMsX4czoK"
      },
      "source": [
        "# STEP\n",
        "Use the step value to determine the step of the slicing:"
      ]
    },
    {
      "cell_type": "code",
      "execution_count": null,
      "metadata": {
        "colab": {
          "base_uri": "https://localhost:8080/"
        },
        "id": "1M2eBviUc1qP",
        "outputId": "0dc44781-7444-42c5-b017-b5ab2ab49deb"
      },
      "outputs": [
        {
          "name": "stdout",
          "output_type": "stream",
          "text": [
            "[2 4]\n"
          ]
        }
      ],
      "source": [
        "# Return every other element from index 1 to index 5.\n",
        "import numpy as np\n",
        "arr=np.array([1,2,3,4,5,6,7])\n",
        "print(arr[1:5:2])"
      ]
    },
    {
      "cell_type": "code",
      "execution_count": null,
      "metadata": {
        "colab": {
          "base_uri": "https://localhost:8080/"
        },
        "id": "Mg9Jiw84dH5k",
        "outputId": "59efd9bb-d954-4cfd-b9c0-6752cca2464d"
      },
      "outputs": [
        {
          "name": "stdout",
          "output_type": "stream",
          "text": [
            "[1 3 5 7]\n"
          ]
        }
      ],
      "source": [
        "# Return every other element from the entire array.\n",
        "import numpy as np\n",
        "arr=np.array([1,2,3,4,5,6,7])\n",
        "print(arr[::2])"
      ]
    },
    {
      "cell_type": "markdown",
      "metadata": {
        "id": "Eci_68Ealkoh"
      },
      "source": [
        "# Slicing 2-D Arrays"
      ]
    },
    {
      "cell_type": "code",
      "execution_count": null,
      "metadata": {
        "colab": {
          "base_uri": "https://localhost:8080/"
        },
        "id": "MqW-n8NTluAb",
        "outputId": "f6760d68-5962-48cf-fe8e-80b3d327b5b2"
      },
      "outputs": [
        {
          "name": "stdout",
          "output_type": "stream",
          "text": [
            "[7 8 9]\n"
          ]
        }
      ],
      "source": [
        "# From the second element, slice elements from index 1 to index 4 (not included).\n",
        "import numpy as np\n",
        "arr=np.array([[1,2,3,4,5],[6,7,8,9,10]])\n",
        "print(arr[1,1:4])"
      ]
    },
    {
      "cell_type": "code",
      "execution_count": null,
      "metadata": {
        "colab": {
          "base_uri": "https://localhost:8080/"
        },
        "id": "L0bLto3lmOkm",
        "outputId": "3bccab51-c868-496e-c50f-b0108b593305"
      },
      "outputs": [
        {
          "name": "stdout",
          "output_type": "stream",
          "text": [
            "[3 8]\n"
          ]
        }
      ],
      "source": [
        "# From both elements, return index 2.\n",
        "import numpy as np\n",
        "arr=np.array([[1,2,3,4,5],[6,7,8,9,10]])\n",
        "print(arr[0:2,2])"
      ]
    },
    {
      "cell_type": "code",
      "execution_count": null,
      "metadata": {
        "colab": {
          "base_uri": "https://localhost:8080/"
        },
        "id": "bu9EnxFDmoRx",
        "outputId": "90ee2c6a-8221-437c-d3f7-974833ff5da6"
      },
      "outputs": [
        {
          "name": "stdout",
          "output_type": "stream",
          "text": [
            "[[2 3 4]\n",
            " [7 8 9]]\n"
          ]
        }
      ],
      "source": [
        "# From both elements, slice index 1 to index 4 (not included), this will return a 2-D array.\n",
        "import numpy as np\n",
        "arr=np.array([[1,2,3,4,5],[6,7,8,9,10]])\n",
        "print(arr[0:2,1:4])"
      ]
    },
    {
      "cell_type": "markdown",
      "metadata": {
        "id": "5zxZ-1rgSJcq"
      },
      "source": [
        "# NumPy Data Types\n",
        "# Data Types in Python\n",
        "By default Python have these data types:\n",
        "\n",
        "strings - used to represent text data, the text is given under quote marks. e.g. \"ABCD\"\n",
        "\n",
        "integer - used to represent integer numbers. e.g. -1, -2, -3\n",
        "\n",
        "float - used to represent real numbers. e.g. 1.2, 42.42\n",
        "\n",
        "boolean - used to represent True or False.\n",
        "\n",
        "complex - used to represent complex numbers. e.g. 1.0 + 2.0j, 1.5 + 2.5j"
      ]
    },
    {
      "cell_type": "markdown",
      "metadata": {
        "id": "ZBlHJAIXSj2O"
      },
      "source": [
        "# Data Types in NumPy\n",
        "NumPy has some extra data types, and refer to data types with one character, like i for integers, u for unsigned integers etc.\n",
        "\n",
        "Below is a list of all data types in NumPy and the characters used to represent them.\n",
        "\n",
        "i - integer\n",
        "\n",
        "b - boolean\n",
        "\n",
        "u - unsigned integer\n",
        "\n",
        "f - float\n",
        "\n",
        "c - complex float\n",
        "\n",
        "m - timedelta\n",
        "\n",
        "M - datetime\n",
        "\n",
        "O - object\n",
        "\n",
        "S - string\n",
        "\n",
        "U - unicode string\n",
        "\n",
        "V - fixed chunk of memory for other type ( void )"
      ]
    },
    {
      "cell_type": "markdown",
      "metadata": {
        "id": "BqiTgwxmS3LE"
      },
      "source": [
        "# Checking the Data Type of an Array\n",
        "The NumPy array object has a property called dtype that returns the data type of the array:"
      ]
    },
    {
      "cell_type": "code",
      "execution_count": null,
      "metadata": {
        "colab": {
          "base_uri": "https://localhost:8080/"
        },
        "id": "MWBfxBJcS5v_",
        "outputId": "b0251d97-176b-4a07-bcf7-dea5d99dc70a"
      },
      "outputs": [
        {
          "name": "stdout",
          "output_type": "stream",
          "text": [
            "int64\n"
          ]
        }
      ],
      "source": [
        "# Get the data type of an array object.\n",
        "import numpy as np\n",
        "arr=np.array([1,2,3])\n",
        "print(arr.dtype)"
      ]
    },
    {
      "cell_type": "code",
      "execution_count": null,
      "metadata": {
        "colab": {
          "base_uri": "https://localhost:8080/"
        },
        "id": "vVJM98vRVNFq",
        "outputId": "de2346f1-20ab-45c3-ee90-771f72d0cb37"
      },
      "outputs": [
        {
          "name": "stdout",
          "output_type": "stream",
          "text": [
            "<U8\n"
          ]
        }
      ],
      "source": [
        "# Get the data type of an array containing strings.\n",
        "import numpy as np\n",
        "arr=np.array(['Anas','Abdullah','Azan'])\n",
        "print(arr.dtype)"
      ]
    },
    {
      "cell_type": "markdown",
      "metadata": {
        "id": "SFDqOqr0VwKZ"
      },
      "source": [
        "# Creating Arrays With a Defined Data Type\n",
        "We use the array() function to create arrays, this function can take an optional argument: dtype that allows us to define the expected data type of the array elements:"
      ]
    },
    {
      "cell_type": "code",
      "execution_count": null,
      "metadata": {
        "colab": {
          "base_uri": "https://localhost:8080/"
        },
        "id": "Hl0oTZICVyMx",
        "outputId": "3327d236-62a3-42fb-86a1-9d1f0c042334"
      },
      "outputs": [
        {
          "name": "stdout",
          "output_type": "stream",
          "text": [
            "[b'1' b'2' b'3' b'4' b'5']\n",
            "|S1\n"
          ]
        }
      ],
      "source": [
        "# Create an array with data type string.\n",
        "import numpy as np\n",
        "arr=np.array([1,2,3,4,5],dtype='S')\n",
        "print(arr)\n",
        "print(arr.dtype)"
      ]
    },
    {
      "cell_type": "code",
      "execution_count": null,
      "metadata": {
        "colab": {
          "base_uri": "https://localhost:8080/"
        },
        "id": "M6YQjlQJWQAA",
        "outputId": "edc13f5e-68e0-485e-c2a1-277255fc0fdd"
      },
      "outputs": [
        {
          "name": "stdout",
          "output_type": "stream",
          "text": [
            "[1 2 3 4]\n",
            "int32\n"
          ]
        }
      ],
      "source": [
        "# For i, u, f, S and U we can define size as well.\n",
        "# Create an array with data type 4 bytes integer.\n",
        "import numpy as np\n",
        "arr=np.array([1,2,3,4],dtype='i4')\n",
        "print(arr)\n",
        "print(arr.dtype)"
      ]
    },
    {
      "cell_type": "markdown",
      "metadata": {
        "id": "UHjjFW8FW4Yd"
      },
      "source": [
        "# Converting Data Type on Existing Arrays\n",
        "The best way to change the data type of an existing array, is to make a copy of the array with the astype() method.\n",
        "\n",
        "The astype() function creates a copy of the array, and allows you to specify the data type as a parameter.\n",
        "\n",
        "The data type can be specified using a string, like 'f' for float, 'i' for integer etc. or you can use the data type directly like float for float and int for integer."
      ]
    },
    {
      "cell_type": "code",
      "execution_count": null,
      "metadata": {
        "colab": {
          "base_uri": "https://localhost:8080/"
        },
        "id": "gxqDHLfdW6nY",
        "outputId": "226ab701-b397-4a8e-e305-8da6fd921a2a"
      },
      "outputs": [
        {
          "name": "stdout",
          "output_type": "stream",
          "text": [
            "[1 3 7]\n",
            "int32\n"
          ]
        }
      ],
      "source": [
        "# Change data type from float to integer by using 'i' as parameter value.\n",
        "import numpy as np\n",
        "arr=np.array([1.2,3.4,7.9])\n",
        "newarr=arr.astype('i')\n",
        "print(newarr)\n",
        "print(newarr.dtype)"
      ]
    },
    {
      "cell_type": "code",
      "execution_count": null,
      "metadata": {
        "colab": {
          "base_uri": "https://localhost:8080/"
        },
        "id": "trWCBaU-Xpon",
        "outputId": "b0330870-1f06-465d-f4a9-d052643d688c"
      },
      "outputs": [
        {
          "name": "stdout",
          "output_type": "stream",
          "text": [
            "[1 3 9]\n",
            "int64\n"
          ]
        }
      ],
      "source": [
        "# Change data type from float to integer by using int as parameter value.\n",
        "import numpy as np\n",
        "arr=np.array([1.2,3.6,9.8])\n",
        "newarr=arr.astype(int)\n",
        "print(newarr)\n",
        "print(newarr.dtype)"
      ]
    },
    {
      "cell_type": "code",
      "execution_count": null,
      "metadata": {
        "colab": {
          "base_uri": "https://localhost:8080/"
        },
        "id": "2NmrRiWZYDdx",
        "outputId": "528adf92-fdaa-4a94-f788-6c229a00847a"
      },
      "outputs": [
        {
          "name": "stdout",
          "output_type": "stream",
          "text": [
            "[ True False  True]\n",
            "bool\n"
          ]
        }
      ],
      "source": [
        "# Change data type from integer to boolean.\n",
        "import numpy as np\n",
        "arr=np.array([1,0,3])\n",
        "newarr=arr.astype(bool)\n",
        "print(newarr)\n",
        "print(newarr.dtype)"
      ]
    },
    {
      "cell_type": "markdown",
      "metadata": {
        "id": "Eq8pNoMjZf7T"
      },
      "source": [
        "# NumPy Array Copy vs View\n",
        "# The Difference Between Copy and View\n",
        "The main difference between a copy and a view of an array is that the copy is a new array, and the view is just a view of the original array.\n",
        "\n",
        "The copy owns the data and any changes made to the copy will not affect original array, and any changes made to the original array will not affect the copy.\n",
        "\n",
        "The view does not own the data and any changes made to the view will affect the original array, and any changes made to the original array will affect the view."
      ]
    },
    {
      "cell_type": "code",
      "execution_count": null,
      "metadata": {
        "colab": {
          "base_uri": "https://localhost:8080/"
        },
        "id": "5hzyt5SRZq1f",
        "outputId": "0d4a7554-56d5-49ec-e845-1850ced7b82c"
      },
      "outputs": [
        {
          "name": "stdout",
          "output_type": "stream",
          "text": [
            "[47  2  3  4  5]\n",
            "[1 2 3 4 5]\n"
          ]
        }
      ],
      "source": [
        "# Make a copy, change the original array, and display both arrays.\n",
        "import numpy as np\n",
        "arr=np.array([1,2,3,4,5])\n",
        "x=arr.copy()\n",
        "arr[0]=47\n",
        "print(arr)\n",
        "print(x)\n",
        "# The copy SHOULD NOT be affected by the changes made to the original array."
      ]
    },
    {
      "cell_type": "code",
      "execution_count": null,
      "metadata": {
        "colab": {
          "base_uri": "https://localhost:8080/"
        },
        "id": "JvRYURjtaRuO",
        "outputId": "ae1f5fc4-3ba4-443c-88af-df61651b5eca"
      },
      "outputs": [
        {
          "name": "stdout",
          "output_type": "stream",
          "text": [
            "[90  2  3  4  5]\n",
            "[90  2  3  4  5]\n"
          ]
        }
      ],
      "source": [
        "# Make a view, change the original array, and display both arrays.\n",
        "import numpy as np\n",
        "arr=np.array([1,2,3,4,5])\n",
        "x=arr.view()\n",
        "arr[0]=90\n",
        "print(arr)\n",
        "print(x)\n",
        "# The view SHOULD be affected by the changes made to the original array."
      ]
    },
    {
      "cell_type": "markdown",
      "metadata": {
        "id": "wL8yFBMQawuV"
      },
      "source": [
        "# Make Changes in the VIEW"
      ]
    },
    {
      "cell_type": "code",
      "execution_count": null,
      "metadata": {
        "colab": {
          "base_uri": "https://localhost:8080/"
        },
        "id": "YpjXsUZ0ayQ0",
        "outputId": "10ea1bbb-54f2-48a9-f131-e6afc76d5701"
      },
      "outputs": [
        {
          "name": "stdout",
          "output_type": "stream",
          "text": [
            "[56  2  3  4  5]\n",
            "[56  2  3  4  5]\n"
          ]
        }
      ],
      "source": [
        "# Make a view, change the view, and display both arrays:\n",
        "import numpy as np\n",
        "arr=np.array([1,2,3,4,5])\n",
        "x=arr.view()\n",
        "arr[0]=56\n",
        "print(arr)\n",
        "print(x)\n",
        "# The original array SHOULD be affected by the changes made to the view."
      ]
    },
    {
      "cell_type": "markdown",
      "metadata": {
        "id": "jmmgPG_-be2O"
      },
      "source": [
        "# Check if Array Owns its Data\n",
        "As mentioned above, copies owns the data, and views does not own the data, but how can we check this?\n",
        "\n",
        "Every NumPy array has the attribute base that returns None if the array owns the data.\n",
        "\n",
        "Otherwise, the base  attribute refers to the original object."
      ]
    },
    {
      "cell_type": "code",
      "execution_count": null,
      "metadata": {
        "colab": {
          "base_uri": "https://localhost:8080/"
        },
        "id": "rtUc3qZ7bg6C",
        "outputId": "039148f5-b9aa-4b16-ad9f-880c1af25274"
      },
      "outputs": [
        {
          "name": "stdout",
          "output_type": "stream",
          "text": [
            "None\n",
            "[1 2 3 4 5]\n"
          ]
        }
      ],
      "source": [
        "# Print the value of the base attribute to check if an array owns it's data or not.\n",
        "import numpy as np\n",
        "arr=np.array([1,2,3,4,5])\n",
        "x=arr.copy()\n",
        "y=arr.view()\n",
        "print(x.base)\n",
        "print(y.base)\n",
        "# The copy returns None.\n",
        "# The view returns the original array."
      ]
    },
    {
      "cell_type": "markdown",
      "metadata": {
        "id": "J25MBlHMcec4"
      },
      "source": [
        "# NumPy Array Shape\n",
        "# Shape of an Array\n",
        "The shape of an array is the number of elements in each dimension.\n",
        "\n",
        "# Get the Shape of an Array\n",
        "NumPy arrays have an attribute called shape that returns a tuple with each index having the number of corresponding elements."
      ]
    },
    {
      "cell_type": "code",
      "execution_count": null,
      "metadata": {
        "colab": {
          "base_uri": "https://localhost:8080/"
        },
        "id": "mcnIX_bycpo2",
        "outputId": "bf2ddc89-e967-46b7-d227-62414a187d99"
      },
      "outputs": [
        {
          "name": "stdout",
          "output_type": "stream",
          "text": [
            "(2, 4)\n"
          ]
        }
      ],
      "source": [
        "# Print the shape of a 2-D array.\n",
        "import numpy as np\n",
        "arr = np.array([[1, 2, 3, 4,], [5, 6, 7, 8]])\n",
        "print(arr.shape)\n"
      ]
    },
    {
      "cell_type": "code",
      "execution_count": null,
      "metadata": {
        "colab": {
          "base_uri": "https://localhost:8080/"
        },
        "id": "Cyzdd5DcdvhB",
        "outputId": "323e0dd2-ed6c-49b2-ed26-cd682bb97485"
      },
      "outputs": [
        {
          "name": "stdout",
          "output_type": "stream",
          "text": [
            "[[[[[1 2 3 4]]]]]\n",
            "Shape of an array (1, 1, 1, 1, 4)\n"
          ]
        }
      ],
      "source": [
        "# Create an array with 5 dimensions using ndmin using a vector with values 1,2,3,4 and verify that last dimension has value 4.\n",
        "import numpy as np\n",
        "arr=np.array([1,2,3,4],ndmin=5)\n",
        "print(arr)\n",
        "print(\"Shape of an array\",arr.shape)"
      ]
    },
    {
      "cell_type": "markdown",
      "metadata": {
        "id": "slwBHS9lepYA"
      },
      "source": [
        "# What does the shape tuple represent?\n",
        "Integers at every index tells about the number of elements the corresponding dimension has.\n",
        "\n",
        "In the example above at index-4 we have value 4, so we can say that 5th ( 4 + 1 th) dimension has 4 elements.\n",
        "\n"
      ]
    },
    {
      "cell_type": "markdown",
      "metadata": {
        "id": "ye9QomC2fXUH"
      },
      "source": [
        "# NumPy Array Reshaping\n",
        "# Reshaping arrays\n",
        "Reshaping means changing the shape of an array.\n",
        "\n",
        "The shape of an array is the number of elements in each dimension.\n",
        "\n",
        "By reshaping we can add or remove dimensions or change number of elements in each dimension.\n",
        "# Reshape From 1-D to 2-D"
      ]
    },
    {
      "cell_type": "code",
      "execution_count": null,
      "metadata": {
        "colab": {
          "base_uri": "https://localhost:8080/"
        },
        "id": "dGNg0XSNfisx",
        "outputId": "9b928bfa-a3ad-4c62-99de-c6717ea81398"
      },
      "outputs": [
        {
          "name": "stdout",
          "output_type": "stream",
          "text": [
            "[[ 1  2  3]\n",
            " [ 4  5  6]\n",
            " [ 7  8  9]\n",
            " [10 11 12]]\n"
          ]
        }
      ],
      "source": [
        "# Convert the following 1-D array with 12 elements into a 2-D array.\n",
        "#The outermost dimension will have 4 arrays, each with 3 elements:\n",
        "import numpy as np\n",
        "arr=np.array([1,2,3,4,5,6,7,8,9,10,11,12])\n",
        "newarr=arr.reshape(4,3)\n",
        "print(newarr)"
      ]
    },
    {
      "cell_type": "markdown",
      "metadata": {
        "id": "r4R9kHuYgKeI"
      },
      "source": [
        "# Reshape From 1-D to 3-D\n",
        "Convert the following 1-D array with 12 elements into a 3-D array.\n",
        "\n",
        "The outermost dimension will have 2 arrays that contains 3 arrays, each with 2 elements:"
      ]
    },
    {
      "cell_type": "code",
      "execution_count": null,
      "metadata": {
        "colab": {
          "base_uri": "https://localhost:8080/"
        },
        "id": "z_pdH4RXgPxz",
        "outputId": "8d727116-13a3-4575-fc20-edf4aa0240d2"
      },
      "outputs": [
        {
          "name": "stdout",
          "output_type": "stream",
          "text": [
            "[[[ 1  2]\n",
            "  [ 3  4]\n",
            "  [ 5  6]]\n",
            "\n",
            " [[ 7  8]\n",
            "  [ 9 10]\n",
            "  [11 12]]]\n"
          ]
        }
      ],
      "source": [
        "import numpy as np\n",
        "arr=np.array([1,2,3,4,5,6,7,8,9,10,11,12])\n",
        "newarr=arr.reshape(2,3,2)\n",
        "print(newarr)"
      ]
    },
    {
      "cell_type": "markdown",
      "metadata": {
        "id": "cYtK_IiAg5kI"
      },
      "source": [
        "# Can We Reshape Into any Shape?\n",
        "Yes, as long as the elements required for reshaping are equal in both shapes.\n",
        "\n",
        "We can reshape an 8 elements 1D array into 4 elements in 2 rows 2D array but we cannot reshape it into a 3 elements 3 rows 2D array as that would require 3x3 = 9 elements."
      ]
    },
    {
      "cell_type": "code",
      "execution_count": null,
      "metadata": {
        "id": "X3Qd2Thgg63w"
      },
      "outputs": [],
      "source": [
        "import numpy as np\n",
        "\n",
        "arr = np.array([1, 2, 3, 4, 5, 6, 7, 8])\n",
        "\n",
        "newarr = arr.reshape(3, 3)\n",
        "\n",
        "print(newarr)"
      ]
    },
    {
      "cell_type": "markdown",
      "metadata": {
        "id": "seGRWY-7hC4F"
      },
      "source": [
        "# Returns Copy or View?"
      ]
    },
    {
      "cell_type": "code",
      "execution_count": null,
      "metadata": {
        "colab": {
          "base_uri": "https://localhost:8080/"
        },
        "id": "q1HR4xTShEJE",
        "outputId": "09cae808-ac60-4477-97ff-c8448dcd1a34"
      },
      "outputs": [
        {
          "name": "stdout",
          "output_type": "stream",
          "text": [
            "[1 2 3 4 5 6 7 8]\n"
          ]
        }
      ],
      "source": [
        "import numpy as np\n",
        "arr=np.array([1,2,3,4,5,6,7,8])\n",
        "print(arr.reshape(2,4).base)\n",
        "# The example above returns the original array, so it is a view."
      ]
    },
    {
      "cell_type": "markdown",
      "metadata": {
        "id": "DQSShk07h7rZ"
      },
      "source": [
        "# Unknown Dimension\n",
        "You are allowed to have one \"unknown\" dimension.\n",
        "\n",
        "Meaning that you do not have to specify an exact number for one of the dimensions in the reshape method.\n",
        "\n",
        "Pass -1 as the value, and NumPy will calculate this number for you."
      ]
    },
    {
      "cell_type": "code",
      "execution_count": null,
      "metadata": {
        "colab": {
          "base_uri": "https://localhost:8080/"
        },
        "id": "lWNhoLfWh9NJ",
        "outputId": "a87e6a9e-55da-4882-c030-0612aa78e5b3"
      },
      "outputs": [
        {
          "name": "stdout",
          "output_type": "stream",
          "text": [
            "[[[1 2]\n",
            "  [3 4]]\n",
            "\n",
            " [[5 6]\n",
            "  [7 8]]]\n"
          ]
        }
      ],
      "source": [
        "# Convert 1D array with 8 elements to 3D array with 2x2 elements.\n",
        "import numpy as np\n",
        "arr=np.array([1,2,3,4,5,6,7,8])\n",
        "newarr=arr.reshape(2,2,-1)\n",
        "print(newarr)\n",
        "# Note: We can not pass -1 to more than one dimension."
      ]
    },
    {
      "cell_type": "markdown",
      "metadata": {
        "id": "VR8fTA0Siw0w"
      },
      "source": [
        "# Flattening the arrays\n",
        "Flattening array means converting a multidimensional array into a 1D array.\n",
        "\n",
        "We can use reshape(-1) to do this."
      ]
    },
    {
      "cell_type": "code",
      "execution_count": null,
      "metadata": {
        "colab": {
          "base_uri": "https://localhost:8080/"
        },
        "id": "EcWQn4Fmix83",
        "outputId": "a3246bce-21fc-4a59-a965-ffa9c986e56c"
      },
      "outputs": [
        {
          "name": "stdout",
          "output_type": "stream",
          "text": [
            "[1 2 3 4 5 6]\n"
          ]
        }
      ],
      "source": [
        "# Convert the array into a 1D array.\n",
        "import numpy as np\n",
        "arr=np.array([[1,2,3],[4,5,6]])\n",
        "newarr=arr.reshape(-1)\n",
        "print(newarr)"
      ]
    },
    {
      "cell_type": "markdown",
      "metadata": {
        "id": "RO4gQJQxjJgL"
      },
      "source": [
        "# Note:\n",
        "There are a lot of functions for changing the shapes of arrays in numpy flatten, ravel and also for rearranging the elements rot90, flip, fliplr, flipud etc. These fall under Intermediate to Advanced section of numpy."
      ]
    },
    {
      "cell_type": "markdown",
      "metadata": {
        "id": "5yR-XvibVd-O"
      },
      "source": [
        "# NumPy Array Iterating\n",
        "# Iterating Arrays\n",
        "Iterating means going through elements one by one.\n",
        "\n",
        "As we deal with multi-dimensional arrays in numpy, we can do this using basic for loop of python.\n",
        "\n",
        "If we iterate on a 1-D array it will go through each element one by one."
      ]
    },
    {
      "cell_type": "code",
      "execution_count": null,
      "metadata": {
        "colab": {
          "base_uri": "https://localhost:8080/"
        },
        "id": "uIlasucTVtJU",
        "outputId": "87b1a9ac-5c1b-44a5-8127-5fbf0bd17226"
      },
      "outputs": [
        {
          "name": "stdout",
          "output_type": "stream",
          "text": [
            "1\n",
            "2\n",
            "3\n"
          ]
        }
      ],
      "source": [
        "# Iterate on the elements of the following 1-D array.\n",
        "import numpy as np\n",
        "arr=np.array([1,2,3])\n",
        "for x in arr:\n",
        "  print(x)"
      ]
    },
    {
      "cell_type": "markdown",
      "metadata": {
        "id": "Z-OdTd9MWQ3z"
      },
      "source": [
        "# Iterating 2-D Arrays\n",
        "In a 2-D array it will go through all the rows."
      ]
    },
    {
      "cell_type": "code",
      "execution_count": null,
      "metadata": {
        "colab": {
          "base_uri": "https://localhost:8080/"
        },
        "id": "iXpqFvRTWSXg",
        "outputId": "f5e89d9b-3865-4478-80a9-a589e1c11a2c"
      },
      "outputs": [
        {
          "name": "stdout",
          "output_type": "stream",
          "text": [
            "[1 2 3]\n",
            "[4 5 6]\n"
          ]
        }
      ],
      "source": [
        "# Iterate on the elements of the following 2-D array.\n",
        "import numpy as np\n",
        "arr=np.array([[1,2,3],[4,5,6]])\n",
        "for x in arr:\n",
        "  print(x)\n",
        "  # If we iterate on a n-D array it will go through n-1th dimension one by one."
      ]
    },
    {
      "cell_type": "code",
      "execution_count": null,
      "metadata": {
        "colab": {
          "base_uri": "https://localhost:8080/"
        },
        "id": "hZoq2SOTW1Qo",
        "outputId": "819e801e-b4da-44db-ba2a-9ee804363a75"
      },
      "outputs": [
        {
          "name": "stdout",
          "output_type": "stream",
          "text": [
            "1\n",
            "2\n",
            "3\n",
            "4\n",
            "5\n",
            "6\n"
          ]
        }
      ],
      "source": [
        "# To return the actual values, the scalars, we have to iterate the arrays in each dimension.\n",
        "# Iterate on each scalar element of the 2-D array.\n",
        "import numpy as np\n",
        "arr=np.array([[1,2,3],[4,5,6]])\n",
        "for x in arr:\n",
        "  for y in x:\n",
        "    print(y)"
      ]
    },
    {
      "cell_type": "markdown",
      "metadata": {
        "id": "-yKbiU9gXWqM"
      },
      "source": [
        "# Iterating 3-D Arrays\n",
        "In a 3-D array it will go through all the 2-D arrays."
      ]
    },
    {
      "cell_type": "code",
      "execution_count": null,
      "metadata": {
        "colab": {
          "base_uri": "https://localhost:8080/"
        },
        "id": "w-sL9VY9XYmQ",
        "outputId": "e8b3ffb9-95fe-49b5-bf3b-21d7febe9119"
      },
      "outputs": [
        {
          "name": "stdout",
          "output_type": "stream",
          "text": [
            "[[1 2 3]\n",
            " [4 5 6]]\n",
            "[[ 7  8  9]\n",
            " [10 11 12]]\n"
          ]
        }
      ],
      "source": [
        "# Iterate on the elements of the following 3-D array.\n",
        "import numpy as np\n",
        "arr=np.array([[[1,2,3],[4,5,6]],[[7,8,9],[10,11,12]]])\n",
        "for x in arr:\n",
        "  print(x)\n"
      ]
    },
    {
      "cell_type": "code",
      "execution_count": null,
      "metadata": {
        "colab": {
          "base_uri": "https://localhost:8080/"
        },
        "id": "9-EtrHmmX_yk",
        "outputId": "4d0ae32f-d869-486e-d78a-3ba39b158dcf"
      },
      "outputs": [
        {
          "name": "stdout",
          "output_type": "stream",
          "text": [
            "1\n",
            "2\n",
            "3\n",
            "4\n",
            "5\n",
            "6\n",
            "7\n",
            "8\n",
            "9\n",
            "10\n",
            "11\n",
            "12\n"
          ]
        }
      ],
      "source": [
        "# To return the actual values, the scalars, we have to iterate the arrays in each dimension.\n",
        "# Iterate down to the scalars.\n",
        "import numpy as np\n",
        "arr=([[[1,2,3],[4,5,6]],[[7,8,9],[10,11,12]]])\n",
        "for x in arr:\n",
        "  for y in x:\n",
        "    for z in y:\n",
        "      print(z)\n"
      ]
    },
    {
      "cell_type": "markdown",
      "metadata": {
        "id": "6gdn1sUMbJtR"
      },
      "source": [
        "# Iterating Arrays Using nditer()\n",
        "The function nditer() is a helping function that can be used from very basic to very advanced iterations. It solves some basic issues which we face in iteration, lets go through it with examples.\n",
        "\n",
        "# Iterating on Each Scalar Element\n",
        "In basic for loops, iterating through each scalar of an array we need to use n for loops which can be difficult to write for arrays with very high dimensionality."
      ]
    },
    {
      "cell_type": "code",
      "execution_count": null,
      "metadata": {
        "colab": {
          "base_uri": "https://localhost:8080/"
        },
        "id": "SBqVZ_F6bOhW",
        "outputId": "fbdcba6c-6adc-476e-b128-19319577e5f1"
      },
      "outputs": [
        {
          "name": "stdout",
          "output_type": "stream",
          "text": [
            "1\n",
            "2\n",
            "3\n",
            "4\n",
            "5\n",
            "6\n",
            "7\n",
            "8\n"
          ]
        }
      ],
      "source": [
        "# Iterate through the following 3-D array.\n",
        "import numpy as np\n",
        "arr=np.array([[[1,2],[3,4]],[[5,6],[7,8]]])\n",
        "for x in np.nditer(arr):\n",
        "  print(x)"
      ]
    },
    {
      "cell_type": "markdown",
      "metadata": {
        "id": "qRV8SHq3cJNp"
      },
      "source": [
        "# Iterating Array With Different Data Types\n",
        "We can use op_dtypes argument and pass it the expected datatype to change the datatype of elements while iterating.\n",
        "\n",
        "NumPy does not change the data type of the element in-place (where the element is in array) so it needs some other space to perform this action, that extra space is called buffer, and in order to enable it in nditer() we pass flags=['buffered']."
      ]
    },
    {
      "cell_type": "code",
      "execution_count": null,
      "metadata": {
        "colab": {
          "base_uri": "https://localhost:8080/"
        },
        "id": "KFsQlPiucLVs",
        "outputId": "c24759e1-e989-4d69-9ecc-1353295733b0"
      },
      "outputs": [
        {
          "name": "stdout",
          "output_type": "stream",
          "text": [
            "b'1'\n",
            "b'2'\n",
            "b'3'\n"
          ]
        }
      ],
      "source": [
        "# Iterate through the array as a string.\n",
        "import numpy as np\n",
        "arr=np.array([1,2,3])\n",
        "for x in np.nditer(arr,flags=['buffered'],op_dtypes=['S']):\n",
        "  print(x)"
      ]
    },
    {
      "cell_type": "markdown",
      "metadata": {
        "id": "OzmMc8CqdO9L"
      },
      "source": [
        "# Iterating With Different Step Size\n",
        "We can use filtering and followed by iteration."
      ]
    },
    {
      "cell_type": "code",
      "execution_count": null,
      "metadata": {
        "colab": {
          "base_uri": "https://localhost:8080/"
        },
        "id": "vzAcXc9QdQsK",
        "outputId": "e23453c9-9763-4ea4-f1f3-9feaca47121a"
      },
      "outputs": [
        {
          "name": "stdout",
          "output_type": "stream",
          "text": [
            "1\n",
            "3\n",
            "5\n",
            "7\n"
          ]
        }
      ],
      "source": [
        "# Iterate through every scalar element of the 2D array skipping 1 element.\n",
        "import numpy as np\n",
        "arr=np.array([[1,2,3,4],[5,6,7,8]])\n",
        "for x in np.nditer(arr[:,::2]):\n",
        "  print(x)"
      ]
    },
    {
      "cell_type": "markdown",
      "metadata": {
        "id": "OihKe4vKeHiU"
      },
      "source": [
        "# Enumerated Iteration Using ndenumerate()\n",
        "Enumeration means mentioning sequence number of somethings one by one.\n",
        "\n",
        "Sometimes we require corresponding index of the element while iterating, the ndenumerate() method can be used for those usecases."
      ]
    },
    {
      "cell_type": "code",
      "execution_count": null,
      "metadata": {
        "colab": {
          "base_uri": "https://localhost:8080/"
        },
        "id": "Bf9TOfO4eJGN",
        "outputId": "8ebf71dc-49da-4782-9e03-7d6a373dcd6d"
      },
      "outputs": [
        {
          "name": "stdout",
          "output_type": "stream",
          "text": [
            "(0,) 1\n",
            "(1,) 2\n",
            "(2,) 3\n"
          ]
        }
      ],
      "source": [
        "# Enumerate on following 1D arrays elements.\n",
        "import numpy as np\n",
        "arr=np.array([1,2,3])\n",
        "for idx,x in np.ndenumerate(arr):\n",
        "  print(idx,x)"
      ]
    },
    {
      "cell_type": "code",
      "execution_count": null,
      "metadata": {
        "colab": {
          "base_uri": "https://localhost:8080/"
        },
        "id": "VCsbcsHFerUu",
        "outputId": "c9526301-6db5-401f-9ed5-fb05df6d5296"
      },
      "outputs": [
        {
          "name": "stdout",
          "output_type": "stream",
          "text": [
            "(0, 0) 1\n",
            "(0, 1) 2\n",
            "(0, 2) 3\n",
            "(0, 3) 4\n",
            "(1, 0) 5\n",
            "(1, 1) 6\n",
            "(1, 2) 7\n",
            "(1, 3) 8\n"
          ]
        }
      ],
      "source": [
        "# Enumerate on following 2D array's elements.\n",
        "import numpy as np\n",
        "arr=np.array([[1,2,3,4],[5,6,7,8]])\n",
        "for idx,x in np.ndenumerate(arr):\n",
        "  print(idx,x)"
      ]
    },
    {
      "cell_type": "markdown",
      "metadata": {
        "id": "H_leO3V6fST0"
      },
      "source": [
        "# NumPy Joining Array\n",
        "# Joining NumPy Arrays\n",
        "Joining means putting contents of two or more arrays in a single array.\n",
        "\n",
        "In SQL we join tables based on a key, whereas in NumPy we join arrays by axes.\n",
        "\n",
        "We pass a sequence of arrays that we want to join to the concatenate() function, along with the axis. If axis is not explicitly passed, it is taken as 0.\n",
        "\n"
      ]
    },
    {
      "cell_type": "code",
      "execution_count": null,
      "metadata": {
        "colab": {
          "base_uri": "https://localhost:8080/"
        },
        "id": "jpMWIEiNfgLQ",
        "outputId": "af8e37a3-f36d-45f4-c29f-d7e9fc4e9491"
      },
      "outputs": [
        {
          "output_type": "stream",
          "name": "stdout",
          "text": [
            "[1 2 3 4 5 6]\n"
          ]
        }
      ],
      "source": [
        "# Join two arrays\n",
        "import numpy as np\n",
        "arr1 = np.array([1, 2, 3])\n",
        "arr2 = np.array([4, 5, 6])\n",
        "arr = np.concatenate((arr1, arr2))\n",
        "print(arr)\n"
      ]
    },
    {
      "cell_type": "code",
      "source": [
        "# Join two 2-D arrays along rows (axis=1).\n",
        "import numpy as np\n",
        "arr1 = np.array([[1, 2], [3, 4]])\n",
        "arr2 = np.array([[5, 6], [7, 8]])\n",
        "arr = np.concatenate((arr1, arr2), axis=1)\n",
        "print(arr)"
      ],
      "metadata": {
        "colab": {
          "base_uri": "https://localhost:8080/"
        },
        "id": "oGHUP9K-kynl",
        "outputId": "903c07d5-ff01-43a9-97a2-24dfc84b4c08"
      },
      "execution_count": null,
      "outputs": [
        {
          "output_type": "stream",
          "name": "stdout",
          "text": [
            "[[1 2 5 6]\n",
            " [3 4 7 8]]\n"
          ]
        }
      ]
    },
    {
      "cell_type": "markdown",
      "source": [
        "# Joining Arrays Using Stack Functions\n",
        "Stacking is same as concatenation, the only difference is that stacking is done along a new axis.\n",
        "\n",
        "We can concatenate two 1-D arrays along the second axis which would result in putting them one over the other, ie. stacking.\n",
        "\n",
        "We pass a sequence of arrays that we want to join to the stack() method along with the axis. If axis is not explicitly passed it is taken as 0."
      ],
      "metadata": {
        "id": "FARsn5JAk7Y7"
      }
    },
    {
      "cell_type": "code",
      "source": [
        "import numpy as np\n",
        "arr1 = np.array([1, 2, 3])\n",
        "arr2 = np.array([4, 5, 6])\n",
        "arr = np.stack((arr1, arr2), axis=1)\n",
        "print(arr)"
      ],
      "metadata": {
        "colab": {
          "base_uri": "https://localhost:8080/"
        },
        "id": "vZ8k-TJNk83E",
        "outputId": "ca1bf794-1685-4c2b-8423-5b4632e2150f"
      },
      "execution_count": null,
      "outputs": [
        {
          "output_type": "stream",
          "name": "stdout",
          "text": [
            "[[1 4]\n",
            " [2 5]\n",
            " [3 6]]\n"
          ]
        }
      ]
    },
    {
      "cell_type": "markdown",
      "source": [
        "# Stacking Along Rows\n",
        "NumPy provides a helper function: hstack() to stack along rows."
      ],
      "metadata": {
        "id": "B6p719NslE2U"
      }
    },
    {
      "cell_type": "code",
      "source": [
        "import numpy as np\n",
        "arr1 = np.array([1, 2, 3])\n",
        "arr2 = np.array([4, 5, 6])\n",
        "arr = np.hstack((arr1, arr2))\n",
        "print(arr)"
      ],
      "metadata": {
        "colab": {
          "base_uri": "https://localhost:8080/"
        },
        "id": "lFMSA5GGlGIu",
        "outputId": "0ccff0fa-659d-4f12-d089-68334e399171"
      },
      "execution_count": null,
      "outputs": [
        {
          "output_type": "stream",
          "name": "stdout",
          "text": [
            "[1 2 3 4 5 6]\n"
          ]
        }
      ]
    },
    {
      "cell_type": "markdown",
      "source": [
        "# Stacking Along Columns\n",
        "NumPy provides a helper function: vstack()  to stack along columns."
      ],
      "metadata": {
        "id": "MiMUS2nDlOOb"
      }
    },
    {
      "cell_type": "code",
      "source": [
        "import numpy as np\n",
        "arr1 = np.array([1, 2, 3])\n",
        "arr2 = np.array([4, 5, 6])\n",
        "arr = np.vstack((arr1, arr2))\n",
        "print(arr)"
      ],
      "metadata": {
        "colab": {
          "base_uri": "https://localhost:8080/"
        },
        "id": "jwn7Q8GslPt6",
        "outputId": "b61c84b5-a763-426e-b495-41e9397fb533"
      },
      "execution_count": null,
      "outputs": [
        {
          "output_type": "stream",
          "name": "stdout",
          "text": [
            "[[1 2 3]\n",
            " [4 5 6]]\n"
          ]
        }
      ]
    },
    {
      "cell_type": "markdown",
      "source": [
        "# Stacking Along Height (depth)\n",
        "NumPy provides a helper function: dstack() to stack along height, which is the same as depth."
      ],
      "metadata": {
        "id": "Gv_rc2GvleA1"
      }
    },
    {
      "cell_type": "code",
      "source": [
        "import numpy as np\n",
        "arr1=np.array([1,2,3,4])\n",
        "arr2=np.array([5,6,7,8])\n",
        "arr=np.dstack((arr1,arr2))\n",
        "print(arr)"
      ],
      "metadata": {
        "colab": {
          "base_uri": "https://localhost:8080/"
        },
        "id": "B0YvMcM5lflF",
        "outputId": "ef9b1c6d-c4c8-4eda-9ebc-fef7ed060f26"
      },
      "execution_count": null,
      "outputs": [
        {
          "output_type": "stream",
          "name": "stdout",
          "text": [
            "[[[1 5]\n",
            "  [2 6]\n",
            "  [3 7]\n",
            "  [4 8]]]\n"
          ]
        }
      ]
    },
    {
      "cell_type": "markdown",
      "source": [
        "# NumPy Splitting Array\n",
        "# Splitting NumPy Arrays\n",
        "Splitting is reverse operation of Joining.\n",
        "\n",
        "Joining merges multiple arrays into one and Splitting breaks one array into multiple.\n",
        "\n",
        "We use array_split() for splitting arrays, we pass it the array we want to split and the number of splits."
      ],
      "metadata": {
        "id": "TE4hfLUCmYHu"
      }
    },
    {
      "cell_type": "code",
      "source": [
        "# Split the array in 3 parts.\n",
        "import numpy as np\n",
        "arr1=np.array([1,2,3,4,5,6])\n",
        "newarr=np.array_split(arr1,3)\n",
        "print(newarr)\n",
        "# Note: The return value is a list containing three arrays."
      ],
      "metadata": {
        "colab": {
          "base_uri": "https://localhost:8080/"
        },
        "id": "kLkyUdg8mdII",
        "outputId": "a9597bdb-b5d7-4e27-cb37-d7d1a559201f"
      },
      "execution_count": null,
      "outputs": [
        {
          "output_type": "stream",
          "name": "stdout",
          "text": [
            "[array([1, 2]), array([3, 4]), array([5, 6])]\n"
          ]
        }
      ]
    },
    {
      "cell_type": "code",
      "source": [
        "# If the array has less elements than required, it will adjust from the end accordingly.\n",
        "# Split the array in 4 parts.\n",
        "import numpy as np\n",
        "arr=np.array([1,2,3,4,5,6])\n",
        "newarr=np.array_split(arr,4)\n",
        "print(newarr)\n",
        "# Note: We also have the method split() available but it will not adjust the elements\n",
        "# when elements are less in source array for splitting like in example above, array_split() worked properly but split() would fail"
      ],
      "metadata": {
        "colab": {
          "base_uri": "https://localhost:8080/"
        },
        "id": "mHMt0cqznHb9",
        "outputId": "c266d8c0-43bc-4216-9d04-7de68984a817"
      },
      "execution_count": null,
      "outputs": [
        {
          "output_type": "stream",
          "name": "stdout",
          "text": [
            "[array([1, 2]), array([3, 4]), array([5]), array([6])]\n"
          ]
        }
      ]
    },
    {
      "cell_type": "markdown",
      "source": [
        "# Split Into Arrays\n",
        "The return value of the array_split() method is an array containing each of the split as an array.\n",
        "\n",
        "If you split an array into 3 arrays, you can access them from the result just like any array element:"
      ],
      "metadata": {
        "id": "RMq61s11n50N"
      }
    },
    {
      "cell_type": "code",
      "source": [
        "# Access the splitted arrays.\n",
        "import numpy as np\n",
        "arr=np.array([1,2,3,4,5,6])\n",
        "newarr=np.array_split(arr,3)\n",
        "print(newarr)\n",
        "print(newarr[0])\n",
        "print(newarr[1])\n",
        "print(newarr[2])"
      ],
      "metadata": {
        "colab": {
          "base_uri": "https://localhost:8080/"
        },
        "id": "86ckRWSun7JY",
        "outputId": "9c2a2de4-d370-4364-d78a-f752e7da8397"
      },
      "execution_count": null,
      "outputs": [
        {
          "output_type": "stream",
          "name": "stdout",
          "text": [
            "[array([1, 2]), array([3, 4]), array([5, 6])]\n",
            "[1 2]\n",
            "[3 4]\n",
            "[5 6]\n"
          ]
        }
      ]
    },
    {
      "cell_type": "markdown",
      "source": [
        "# Splitting 2-D Arrays\n",
        "Use the same syntax when splitting 2-D arrays.\n",
        "\n",
        "Use the array_split() method, pass in the array you want to split and the number of splits you want to do."
      ],
      "metadata": {
        "id": "Lhd0kX5Xo3ZL"
      }
    },
    {
      "cell_type": "code",
      "source": [
        "#Split the 2-D array into three 2-D arrays.\n",
        "import numpy as np\n",
        "arr=np.array([[1,2],[3,4],[5,6],[7,8],[9,10],[11,12]])\n",
        "newarr=np.array_split(arr,3)\n",
        "print(newarr)"
      ],
      "metadata": {
        "colab": {
          "base_uri": "https://localhost:8080/"
        },
        "id": "rliXXUT-o5LG",
        "outputId": "cc4d1590-8bf4-4d14-9735-8a55a5231616"
      },
      "execution_count": null,
      "outputs": [
        {
          "output_type": "stream",
          "name": "stdout",
          "text": [
            "[array([[1, 2],\n",
            "       [3, 4]]), array([[5, 6],\n",
            "       [7, 8]]), array([[ 9, 10],\n",
            "       [11, 12]])]\n"
          ]
        }
      ]
    },
    {
      "cell_type": "markdown",
      "source": [
        "# Let's look at another example, this time each element in the 2-D arrays contains 3 elements.\n",
        "\n"
      ],
      "metadata": {
        "id": "fvVTttbbpgtW"
      }
    },
    {
      "cell_type": "code",
      "source": [
        "# Split the 2-D array into three 2-D arrays.\n",
        "import numpy as np\n",
        "arr=np.array([[1,2,3],[4,5,6],[7,8,9],[10,11,12],[13,14,15],[16,17,18]])\n",
        "newarr=np.array_split(arr,3)\n",
        "print(newarr)\n",
        "print(newarr[0])\n",
        "print(newarr[1])\n",
        "print(newarr[2])\n"
      ],
      "metadata": {
        "colab": {
          "base_uri": "https://localhost:8080/"
        },
        "id": "De1ythKbpiIF",
        "outputId": "9218130c-5331-48a6-9517-bc9c6dece90f"
      },
      "execution_count": null,
      "outputs": [
        {
          "output_type": "stream",
          "name": "stdout",
          "text": [
            "[array([[1, 2, 3],\n",
            "       [4, 5, 6]]), array([[ 7,  8,  9],\n",
            "       [10, 11, 12]]), array([[13, 14, 15],\n",
            "       [16, 17, 18]])]\n",
            "[[1 2 3]\n",
            " [4 5 6]]\n",
            "[[ 7  8  9]\n",
            " [10 11 12]]\n",
            "[[13 14 15]\n",
            " [16 17 18]]\n"
          ]
        }
      ]
    },
    {
      "cell_type": "markdown",
      "source": [
        "# The example below also returns three 2-D arrays, but they are split along the row (axis=1)."
      ],
      "metadata": {
        "id": "uLbhsfMXuV8y"
      }
    },
    {
      "cell_type": "code",
      "source": [
        "# Split the 2-D array into three 2-D arrays along rows.\n",
        "import numpy as np\n",
        "arr=np.array([[1,2,3],[4,5,6],[7,8,9],[10,11,12],[13,14,15],[16,17,18]])\n",
        "newarr=np.array_split(arr,3,axis=1)\n",
        "print(newarr)"
      ],
      "metadata": {
        "colab": {
          "base_uri": "https://localhost:8080/"
        },
        "id": "PA_KcsR1uXaq",
        "outputId": "63355f00-8a69-4903-cf5e-1b26bf29b29f"
      },
      "execution_count": null,
      "outputs": [
        {
          "output_type": "stream",
          "name": "stdout",
          "text": [
            "[array([[ 1],\n",
            "       [ 4],\n",
            "       [ 7],\n",
            "       [10],\n",
            "       [13],\n",
            "       [16]]), array([[ 2],\n",
            "       [ 5],\n",
            "       [ 8],\n",
            "       [11],\n",
            "       [14],\n",
            "       [17]]), array([[ 3],\n",
            "       [ 6],\n",
            "       [ 9],\n",
            "       [12],\n",
            "       [15],\n",
            "       [18]])]\n"
          ]
        }
      ]
    },
    {
      "cell_type": "markdown",
      "source": [
        "# An alternate solution is using hsplit() opposite of hstack()"
      ],
      "metadata": {
        "id": "LdzroFbHvbU7"
      }
    },
    {
      "cell_type": "code",
      "source": [
        "# Use the hsplit() method to split the 2-D array into three 2-D arrays along rows.\n",
        "import numpy as np\n",
        "arr=np.array([[1,2,3],[4,5,6],[7,8,9],[10,11,12],[13,14,15],[16,17,18]])\n",
        "newarr=np.hsplit(arr,3)\n",
        "print(newarr)"
      ],
      "metadata": {
        "id": "oaJuI9_ivc6Y",
        "colab": {
          "base_uri": "https://localhost:8080/"
        },
        "outputId": "00bc9223-ecc2-4e63-e811-364df3ce3ad7"
      },
      "execution_count": null,
      "outputs": [
        {
          "output_type": "stream",
          "name": "stdout",
          "text": [
            "[array([[ 1],\n",
            "       [ 4],\n",
            "       [ 7],\n",
            "       [10],\n",
            "       [13],\n",
            "       [16]]), array([[ 2],\n",
            "       [ 5],\n",
            "       [ 8],\n",
            "       [11],\n",
            "       [14],\n",
            "       [17]]), array([[ 3],\n",
            "       [ 6],\n",
            "       [ 9],\n",
            "       [12],\n",
            "       [15],\n",
            "       [18]])]\n"
          ]
        }
      ]
    },
    {
      "cell_type": "markdown",
      "source": [
        "# Note:\n",
        "Similar alternates to vstack() and dstack() are available as vsplit() and dsplit()."
      ],
      "metadata": {
        "id": "D2t5QSPYv8J7"
      }
    },
    {
      "cell_type": "markdown",
      "source": [
        "# NumPy Searching Arrays\n",
        "# Searching Arrays\n",
        "You can search an array for a certain value, and return the indexes that get a match.\n",
        "\n",
        "To search an array, use the where() method."
      ],
      "metadata": {
        "id": "sl1i1TsS1FYH"
      }
    },
    {
      "cell_type": "code",
      "source": [
        "# Find the indexes where the value is 4.\n",
        "import numpy as np\n",
        "arr=np.array([1,2,3,4,5,4,4])\n",
        "x=np.where(arr==4)\n",
        "print(x)\n",
        "#The example above will return a tuple: (array([3, 5, 6],)\n",
        "#Which means that the value 4 is present at index 3, 5, and 6."
      ],
      "metadata": {
        "id": "pN_Ueh871MER",
        "colab": {
          "base_uri": "https://localhost:8080/"
        },
        "outputId": "c9a294ee-6842-4f1e-fe9e-0c5310e7011c"
      },
      "execution_count": null,
      "outputs": [
        {
          "output_type": "stream",
          "name": "stdout",
          "text": [
            "(array([3, 5, 6]),)\n"
          ]
        }
      ]
    },
    {
      "cell_type": "code",
      "source": [
        "# Find the indexes where the values are even.\n",
        "import numpy as np\n",
        "arr=np.array([1,2,3,4,5,6,7,8,9,10])\n",
        "x=np.where(arr%2==0)\n",
        "print(x)"
      ],
      "metadata": {
        "colab": {
          "base_uri": "https://localhost:8080/"
        },
        "id": "OEHCDPc0Aoua",
        "outputId": "f3268c34-ab98-449a-e29f-9c9755170ec8"
      },
      "execution_count": null,
      "outputs": [
        {
          "output_type": "stream",
          "name": "stdout",
          "text": [
            "(array([1, 3, 5, 7, 9]),)\n"
          ]
        }
      ]
    },
    {
      "cell_type": "code",
      "source": [
        "# Find the indexes where the values are odd.\n",
        "import numpy as np\n",
        "arr=np.array([1,2,3,4,5,6,7,8,9,10])\n",
        "x=np.where(arr%2==1)\n",
        "print(x)"
      ],
      "metadata": {
        "colab": {
          "base_uri": "https://localhost:8080/"
        },
        "id": "-dx2ELXoBIt-",
        "outputId": "db1055b0-c34e-4a79-bd7f-573470b5f37c"
      },
      "execution_count": null,
      "outputs": [
        {
          "output_type": "stream",
          "name": "stdout",
          "text": [
            "(array([0, 2, 4, 6, 8]),)\n"
          ]
        }
      ]
    },
    {
      "cell_type": "markdown",
      "source": [
        "# Search Sorted\n",
        "There is a method called searchsorted() which performs a binary search in the array, and returns the index where the specified value would be inserted to maintain the search order.\n",
        "\n",
        "The searchsorted() method is assumed to be used on sorted arrays."
      ],
      "metadata": {
        "id": "6b4tH1JnBmgX"
      }
    },
    {
      "cell_type": "code",
      "source": [
        "# Find the indexes where the value 7 should be inserted.\n",
        "import numpy as np\n",
        "arr=np.array([6,7,8,9,10])\n",
        "x=np.searchsorted(arr,7)\n",
        "print(x)"
      ],
      "metadata": {
        "colab": {
          "base_uri": "https://localhost:8080/"
        },
        "id": "LXjzZEcHBoCQ",
        "outputId": "b83eb32f-5bfc-4c9c-ff85-20a6bfbd772d"
      },
      "execution_count": null,
      "outputs": [
        {
          "output_type": "stream",
          "name": "stdout",
          "text": [
            "1\n"
          ]
        }
      ]
    },
    {
      "cell_type": "markdown",
      "source": [
        "# Example explained:\n",
        "The number 7 should be inserted on index 1 to remain the sort order.\n",
        "\n",
        "The method starts the search from the left and returns the first index where the number 7 is no longer larger than the next value."
      ],
      "metadata": {
        "id": "J29KcsOHDhby"
      }
    },
    {
      "cell_type": "markdown",
      "source": [
        "# Search From the Right Side\n",
        "By default the left most index is returned, but we can give side='right' to return the right most index instead."
      ],
      "metadata": {
        "id": "6jz7KOlkDpvt"
      }
    },
    {
      "cell_type": "code",
      "source": [
        "# Find the indexes where the value 7 should be inserted, starting from the right.\n",
        "import numpy as np\n",
        "arr=np.array([6,7,8,9,10])\n",
        "x=np.searchsorted(arr,7,side='right')\n",
        "print(x)"
      ],
      "metadata": {
        "colab": {
          "base_uri": "https://localhost:8080/"
        },
        "id": "iWcPOytQDr4e",
        "outputId": "57f3f41d-3a86-46ac-b37a-54aee02b0d9d"
      },
      "execution_count": null,
      "outputs": [
        {
          "output_type": "stream",
          "name": "stdout",
          "text": [
            "2\n"
          ]
        }
      ]
    },
    {
      "cell_type": "markdown",
      "source": [
        "# Example explained:\n",
        "The number 7 should be inserted on index 2 to remain the sort order.\n",
        "\n",
        "The method starts the search from the right and returns the first index where the number 7 is no longer less than the next value."
      ],
      "metadata": {
        "id": "a408rys9E0YT"
      }
    },
    {
      "cell_type": "markdown",
      "source": [
        "# Multiple Values\n",
        "To search for more than one value, use an array with the specified values."
      ],
      "metadata": {
        "id": "CPV-5IFyE4Yr"
      }
    },
    {
      "cell_type": "code",
      "source": [
        "# Find the indexes where the values 2, 4, and 6 should be inserted.\n",
        "import numpy as np\n",
        "arr=np.array([1,3,5,7])\n",
        "x=np.searchsorted(arr,[2,4,6])\n",
        "print(x)"
      ],
      "metadata": {
        "colab": {
          "base_uri": "https://localhost:8080/"
        },
        "id": "YXnqvvuPE8mG",
        "outputId": "f72f4a1b-0063-47e6-fd80-12c86d6e026b"
      },
      "execution_count": null,
      "outputs": [
        {
          "output_type": "stream",
          "name": "stdout",
          "text": [
            "[1 2 3]\n"
          ]
        }
      ]
    },
    {
      "cell_type": "markdown",
      "source": [
        "The return value is an array: [1 2 3] containing the three indexes where 2, 4, 6 would be inserted in the original array to maintain the order."
      ],
      "metadata": {
        "id": "wGmlVEx4FsBX"
      }
    },
    {
      "cell_type": "markdown",
      "source": [
        "# NumPy Sorting Arrays\n",
        "# Sorting Arrays\n",
        "Sorting means putting elements in an ordered sequence.\n",
        "\n",
        "Ordered sequence is any sequence that has an order corresponding to elements, like numeric or alphabetical, ascending or descending.\n",
        "\n",
        "The NumPy ndarray object has a function called sort(), that will sort a specified array."
      ],
      "metadata": {
        "id": "sZ_phlaHGyNd"
      }
    },
    {
      "cell_type": "code",
      "source": [
        "import numpy as np\n",
        "arr=np.array([3,2,0,1])\n",
        "x=np.sort(arr)\n",
        "print(x)\n",
        "# Note: This method returns a copy of the array, leaving the original array unchanged."
      ],
      "metadata": {
        "colab": {
          "base_uri": "https://localhost:8080/"
        },
        "id": "SXIrtY5oG9pm",
        "outputId": "d5875967-a913-4452-c6d7-08beba63e409"
      },
      "execution_count": null,
      "outputs": [
        {
          "output_type": "stream",
          "name": "stdout",
          "text": [
            "[0 1 2 3]\n"
          ]
        }
      ]
    },
    {
      "cell_type": "markdown",
      "source": [
        "# You can also sort arrays of strings, or any other data type."
      ],
      "metadata": {
        "id": "5hG4tOxOHpvb"
      }
    },
    {
      "cell_type": "code",
      "source": [
        "# Sort the array alphabetically.\n",
        "import numpy as np\n",
        "arr=np.array([\"banana\",\"cherry\",\"apple\"])\n",
        "x=np.sort(arr)\n",
        "print(x)"
      ],
      "metadata": {
        "colab": {
          "base_uri": "https://localhost:8080/"
        },
        "id": "foGQPB_FHr2t",
        "outputId": "7f37c4b3-4377-4544-b6d8-187ae13e2b03"
      },
      "execution_count": null,
      "outputs": [
        {
          "output_type": "stream",
          "name": "stdout",
          "text": [
            "['apple' 'banana' 'cherry']\n"
          ]
        }
      ]
    },
    {
      "cell_type": "code",
      "source": [
        "# Sort a boolean array.\n",
        "import numpy as np\n",
        "arr=np.array([True,False,True])\n",
        "x=np.sort(arr)\n",
        "print(x)"
      ],
      "metadata": {
        "colab": {
          "base_uri": "https://localhost:8080/"
        },
        "id": "Q9ZUs4QSILLa",
        "outputId": "e27c1056-ff89-47a3-b38f-dfafd9b4c2a5"
      },
      "execution_count": null,
      "outputs": [
        {
          "output_type": "stream",
          "name": "stdout",
          "text": [
            "[False  True  True]\n"
          ]
        }
      ]
    },
    {
      "cell_type": "markdown",
      "source": [
        "# Sorting a 2-D Array\n",
        "If you use the sort() method on a 2-D array, both arrays will be sorted:"
      ],
      "metadata": {
        "id": "wsVCVCnnIkJD"
      }
    },
    {
      "cell_type": "code",
      "source": [
        "# Sort a 2-D array.\n",
        "import numpy as np\n",
        "arr=np.array([[3,2,4],[5,0,1]])\n",
        "x=np.sort(arr)\n",
        "print(x)"
      ],
      "metadata": {
        "colab": {
          "base_uri": "https://localhost:8080/"
        },
        "id": "FUDQVCmRIl20",
        "outputId": "12caf2ac-86e0-48c9-e42a-ef3a2deedb49"
      },
      "execution_count": null,
      "outputs": [
        {
          "output_type": "stream",
          "name": "stdout",
          "text": [
            "[[2 3 4]\n",
            " [0 1 5]]\n"
          ]
        }
      ]
    },
    {
      "cell_type": "markdown",
      "source": [
        "# NumPy Filter Array\n",
        "# Filtering Arrays\n",
        "Getting some elements out of an existing array and creating a new array out of them is called filtering.\n",
        "\n",
        "In NumPy, you filter an array using a boolean index list.\n",
        "\n",
        "# A boolean index list is a list of booleans corresponding to indexes in the array.\n",
        "\n",
        "If the value at an index is True that element is contained in the filtered array, if the value at that index is False that element is excluded from the filtered array."
      ],
      "metadata": {
        "id": "iryLKBadJWSK"
      }
    },
    {
      "cell_type": "code",
      "source": [
        "# Create an array from the elements on index 0 and 2.\n",
        "import numpy as np\n",
        "arr=np.array([41,42,43,44])\n",
        "x=[True,False,True,False]\n",
        "newarr=arr[x]\n",
        "print(newarr)"
      ],
      "metadata": {
        "colab": {
          "base_uri": "https://localhost:8080/"
        },
        "id": "jg3YsXHBJp3m",
        "outputId": "1886c6c3-81f3-4d80-8d57-dc5a2a9d74f8"
      },
      "execution_count": null,
      "outputs": [
        {
          "output_type": "stream",
          "name": "stdout",
          "text": [
            "[41 43]\n"
          ]
        }
      ]
    },
    {
      "cell_type": "markdown",
      "source": [
        "# Creating the Filter Array\n",
        "In the example above we hard-coded the True and False values, but the common use is to create a filter array based on conditions."
      ],
      "metadata": {
        "id": "wETdNJTaKdRH"
      }
    },
    {
      "cell_type": "code",
      "source": [
        "# Create a filter array that will return only values higher than 42.\n",
        "import numpy as np\n",
        "arr=np.array([41,42,43,44])\n",
        "filter_arr=[]\n",
        "for element in arr:\n",
        "  if element>42:\n",
        "    filter_arr.append(True)\n",
        "  else:\n",
        "    filter_arr.append(False)\n",
        "newarr=arr[filter_arr]\n",
        "print(filter_arr)\n",
        "print(newarr)"
      ],
      "metadata": {
        "colab": {
          "base_uri": "https://localhost:8080/"
        },
        "id": "cc4ZlDRfKehm",
        "outputId": "cb9bf8f8-9b35-4c40-e149-94a7afccb64a"
      },
      "execution_count": null,
      "outputs": [
        {
          "output_type": "stream",
          "name": "stdout",
          "text": [
            "[False, False, True, True]\n",
            "[43 44]\n"
          ]
        }
      ]
    },
    {
      "cell_type": "code",
      "source": [
        "# Create a filter array that will return only even elements from the original array.\n",
        "import numpy as np\n",
        "arr=np.array([1,2,3,4,5,6,7,8,9,10])\n",
        "filter_arr=[]\n",
        "for element in arr:\n",
        "  if element%2==0:\n",
        "    filter_arr.append(True)\n",
        "  else:\n",
        "    filter_arr.append(False)\n",
        "newarr=arr[filter_arr]\n",
        "print(filter_arr)\n",
        "print(newarr)"
      ],
      "metadata": {
        "colab": {
          "base_uri": "https://localhost:8080/"
        },
        "id": "6KfROY7ILalz",
        "outputId": "7c2e1e83-a949-4806-c393-126d4c867eeb"
      },
      "execution_count": null,
      "outputs": [
        {
          "output_type": "stream",
          "name": "stdout",
          "text": [
            "[False, True, False, True, False, True, False, True, False, True]\n",
            "[ 2  4  6  8 10]\n"
          ]
        }
      ]
    },
    {
      "cell_type": "markdown",
      "source": [
        "# Creating Filter Directly From Array\n",
        "The above example is quite a common task in NumPy and NumPy provides a nice way to tackle it.\n",
        "\n",
        "We can directly substitute the array instead of the iterable variable in our condition and it will work just as we expect it to."
      ],
      "metadata": {
        "id": "GihyVW_RMcqs"
      }
    },
    {
      "cell_type": "code",
      "source": [
        "# Create a filter array that will return only values higher than 42.\n",
        "import numpy as np\n",
        "arr=np.array([41,42,43,44])\n",
        "filter_arr=arr>42\n",
        "newarr=arr[filter_arr]\n",
        "print(filter_arr)\n",
        "print(newarr)"
      ],
      "metadata": {
        "colab": {
          "base_uri": "https://localhost:8080/"
        },
        "id": "NC_w_fz4MeP7",
        "outputId": "c034355e-4265-4d00-b519-15b8e296fd70"
      },
      "execution_count": null,
      "outputs": [
        {
          "output_type": "stream",
          "name": "stdout",
          "text": [
            "[False False  True  True]\n",
            "[43 44]\n"
          ]
        }
      ]
    },
    {
      "cell_type": "code",
      "source": [
        "# Create a filter array that will return only odd elements from the original array.\n",
        "import numpy as np\n",
        "arr=np.array([1,2,3,4,5,6,7,8,9,10])\n",
        "filter_arr=arr%2!=0\n",
        "newarr=arr[filter_arr]\n",
        "print(filter_arr)\n",
        "print(newarr)"
      ],
      "metadata": {
        "colab": {
          "base_uri": "https://localhost:8080/"
        },
        "id": "RGaKhBRsM-Dq",
        "outputId": "8adcae76-6c80-430f-a44e-4772865d3a20"
      },
      "execution_count": null,
      "outputs": [
        {
          "output_type": "stream",
          "name": "stdout",
          "text": [
            "[ True False  True False  True False  True False  True False]\n",
            "[1 3 5 7 9]\n"
          ]
        }
      ]
    }
  ],
  "metadata": {
    "colab": {
      "provenance": []
    },
    "kernelspec": {
      "display_name": "Python 3",
      "name": "python3"
    },
    "language_info": {
      "name": "python"
    }
  },
  "nbformat": 4,
  "nbformat_minor": 0
}